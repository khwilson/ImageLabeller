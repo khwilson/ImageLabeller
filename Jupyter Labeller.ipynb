{
 "cells": [
  {
   "cell_type": "markdown",
   "metadata": {},
   "source": [
    "## Example Data Labeler\n",
    "\n",
    "A not uncommon task you need to perform is to go through a bunch of images and group them into some categories. Sometimes you even need to assess whether the labels of some sort of image processing pipeline are correct.\n",
    "\n",
    "This Jupyter notebook shows you how to use ipywidgets to write a binary labeler."
   ]
  },
  {
   "cell_type": "code",
   "execution_count": 1,
   "metadata": {},
   "outputs": [],
   "source": [
    "from io import BytesIO\n",
    "from typing import Optional\n",
    "\n",
    "import numpy as np\n",
    "import ipywidgets as widgets\n",
    "from IPython.display import display\n",
    "from PIL import Image"
   ]
  },
  {
   "cell_type": "code",
   "execution_count": 2,
   "metadata": {},
   "outputs": [],
   "source": [
    "def get_image(filename: str, width: Optional[int] = None, height: Optional[int] = None) -> Image:\n",
    "    \"\"\"\n",
    "    Open the image at `filename` and resize it according to width/height.\n",
    "    If only width is provided, scale the image to that width, and proportionally\n",
    "    scale the height.\n",
    "    \n",
    "    Args:\n",
    "        filename: The file to open\n",
    "        width: The new width of the image\n",
    "        height: The new height of the image\n",
    "    \n",
    "    Returns:\n",
    "        The PIL Image representation\n",
    "    \"\"\"\n",
    "    with open(filename, 'rb') as opened_file:\n",
    "        img = Image.open(opened_file)\n",
    "        img.load()\n",
    "    \n",
    "    if width:\n",
    "        if height:\n",
    "            img = img.resize((width, height))\n",
    "        ratio = width / img.width\n",
    "        height = int(ratio * img.height)\n",
    "        img = img.resize((width, height))\n",
    "    elif height:\n",
    "        ratio = height / img.height\n",
    "        width = int(ratio * img.width)\n",
    "        img = img.resize((width, height))\n",
    "    return img\n",
    "\n",
    "\n",
    "def img_to_bytes(img: Image) -> BytesIO:\n",
    "    \"\"\"\n",
    "    Convert the Image to a its PNG representation as bytes\n",
    "    \"\"\"\n",
    "    bytes_io = BytesIO()\n",
    "    img.save(bytes_io, 'png')\n",
    "    bytes_io.seek(0)\n",
    "    return bytes_io\n",
    "\n",
    "\n",
    "class DataCapture:\n",
    "    def __init__(self, images, outcomes, seed=12381238):\n",
    "        if len(images) != len(outcomes):\n",
    "            raise ValueError('images and outcomes must have the same length')\n",
    "\n",
    "        rand = np.random.RandomState(seed)\n",
    "        self.images = images\n",
    "        self.outcomes = outcomes\n",
    "        self.idxs = np.arange(len(images))\n",
    "        self.current_idx_idx = 0\n",
    "        \n",
    "        # Shuffle the indices so we get a random sample (when we likely get bored)\n",
    "        rand.shuffle(self.idxs)\n",
    "        \n",
    "        self.image = None\n",
    "        self.outcome = None\n",
    "        self.yes_button = None\n",
    "        self.no_button = None\n",
    "        \n",
    "        self.answers = {}\n",
    "        \n",
    "    @property\n",
    "    def current_idx(self):\n",
    "        return self.idxs[self.current_idx_idx]\n",
    "        \n",
    "    def start(self):\n",
    "        \"\"\" Start the capture routine of the widget \"\"\"\n",
    "        val = img_to_bytes(get_image(self.images[self.current_idx], 300)).read()\n",
    "        self.image = widgets.Image(value=val, format='png')\n",
    "        \n",
    "        self.outcome = widgets.Label(self.outcomes[self.current_idx])\n",
    "        \n",
    "        self.yes_button = widgets.Button(description='Correct')\n",
    "        self.no_button = widgets.Button(description='Fail')\n",
    "        \n",
    "        def on_yes_clicked(b):\n",
    "            self.answers[self.current_idx] = 'Correct'\n",
    "            self.next()\n",
    "        \n",
    "        def on_no_clicked(b):\n",
    "            self.answers[self.current_idx] = 'Incorrect'\n",
    "            self.next()\n",
    "        \n",
    "        self.yes_button.on_click(on_yes_clicked)\n",
    "        self.no_button.on_click(on_no_clicked)\n",
    "        \n",
    "        display(self.outcome)\n",
    "        display(widgets.HBox([self.yes_button, self.no_button]))\n",
    "        display(self.image)\n",
    "        \n",
    "    def next(self):\n",
    "        \"\"\" Advance the capture routine of the widget \"\"\"\n",
    "        self.current_idx_idx += 1\n",
    "        if self.current_idx_idx == len(self.images):\n",
    "            # We're done!\n",
    "            self.outcome.close()\n",
    "            self.yes_button.close()\n",
    "            self.no_button.close()\n",
    "            self.image.close()\n",
    "            print('All images labeled!!')\n",
    "            return\n",
    "        self.outcome.value = self.outcomes[self.current_idx]\n",
    "        val = img_to_bytes(get_image(self.images[self.current_idx], 300)).read()\n",
    "        self.image.value = val"
   ]
  },
  {
   "cell_type": "code",
   "execution_count": null,
   "metadata": {},
   "outputs": [],
   "source": []
  },
  {
   "cell_type": "code",
   "execution_count": 3,
   "metadata": {},
   "outputs": [],
   "source": [
    "images = [\n",
    "    'images/green1.jpg',\n",
    "    'images/green2.jpg',\n",
    "    'images/purple1.jpg',\n",
    "    'images/purple2.jpg'\n",
    "]\n",
    "\n",
    "outcomes = [\n",
    "    'green',\n",
    "    'purple',\n",
    "    'purple',\n",
    "    'green'\n",
    "]"
   ]
  },
  {
   "cell_type": "code",
   "execution_count": 4,
   "metadata": {},
   "outputs": [
    {
     "data": {
      "application/vnd.jupyter.widget-view+json": {
       "model_id": "",
       "version_major": 2,
       "version_minor": 0
      },
      "text/plain": [
       "Label(value='purple')"
      ]
     },
     "metadata": {},
     "output_type": "display_data"
    },
    {
     "data": {
      "application/vnd.jupyter.widget-view+json": {
       "model_id": "71504e6621a04382848ab9a85d62da16",
       "version_major": 2,
       "version_minor": 0
      },
      "text/plain": [
       "HBox(children=(Button(description='Correct', style=ButtonStyle()), Button(description='Fail', style=ButtonStyl…"
      ]
     },
     "metadata": {},
     "output_type": "display_data"
    },
    {
     "data": {
      "application/vnd.jupyter.widget-view+json": {
       "model_id": "",
       "version_major": 2,
       "version_minor": 0
      },
      "text/plain": [
       "Image(value=b'\\x89PNG\\r\\n\\x1a\\n\\x00\\x00\\x00\\rIHDR\\x00\\x00\\x01,\\x00\\x00\\x00\\xc8\\x08\\x02\\x00\\x00\\x00\\xdd\\xbdK\\x0…"
      ]
     },
     "metadata": {},
     "output_type": "display_data"
    },
    {
     "name": "stdout",
     "output_type": "stream",
     "text": [
      "All images labeled!!\n"
     ]
    }
   ],
   "source": [
    "cap = DataCapture(images, outcomes)\n",
    "cap.start()"
   ]
  },
  {
   "cell_type": "code",
   "execution_count": 5,
   "metadata": {},
   "outputs": [],
   "source": [
    "correct_images = [images[idx] for idx, val in cap.answers.items() if val == 'Correct']\n",
    "incorrect_images = [images[idx] for idx, val in cap.answers.items() if val == 'Incorrect']"
   ]
  },
  {
   "cell_type": "code",
   "execution_count": 6,
   "metadata": {},
   "outputs": [
    {
     "data": {
      "text/plain": [
       "2"
      ]
     },
     "execution_count": 6,
     "metadata": {},
     "output_type": "execute_result"
    }
   ],
   "source": [
    "len(correct_images)"
   ]
  },
  {
   "cell_type": "code",
   "execution_count": 7,
   "metadata": {},
   "outputs": [
    {
     "data": {
      "text/plain": [
       "2"
      ]
     },
     "execution_count": 7,
     "metadata": {},
     "output_type": "execute_result"
    }
   ],
   "source": [
    "len(incorrect_images)"
   ]
  },
  {
   "cell_type": "code",
   "execution_count": null,
   "metadata": {},
   "outputs": [],
   "source": []
  }
 ],
 "metadata": {
  "kernelspec": {
   "display_name": "Python 3",
   "language": "python",
   "name": "python3"
  },
  "language_info": {
   "codemirror_mode": {
    "name": "ipython",
    "version": 3
   },
   "file_extension": ".py",
   "mimetype": "text/x-python",
   "name": "python",
   "nbconvert_exporter": "python",
   "pygments_lexer": "ipython3",
   "version": "3.7.2"
  }
 },
 "nbformat": 4,
 "nbformat_minor": 2
}
